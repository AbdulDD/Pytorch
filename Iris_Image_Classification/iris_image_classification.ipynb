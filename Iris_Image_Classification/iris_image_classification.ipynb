{
 "cells": [
  {
   "cell_type": "code",
   "execution_count": 1,
   "id": "32a4d4f9",
   "metadata": {},
   "outputs": [],
   "source": [
    "# Imports\n",
    "import torch\n",
    "import numpy as np\n",
    "import torch.nn as nn\n",
    "from torch.utils.data import DataLoader\n",
    "from sklearn.datasets import load_iris\n",
    "from sklearn.model_selection import train_test_split\n",
    "from sklearn.preprocessing import StandardScaler\n",
    "from sklearn.metrics import accuracy_score\n",
    "import seaborn as sns"
   ]
  },
  {
   "cell_type": "markdown",
   "id": "6e368d79",
   "metadata": {},
   "source": [
    "# Load and preprocessing Dataset"
   ]
  },
  {
   "cell_type": "code",
   "execution_count": 2,
   "id": "1bd567a5",
   "metadata": {},
   "outputs": [
    {
     "name": "stdout",
     "output_type": "stream",
     "text": [
      "Type of data: <class 'numpy.ndarray'>\n",
      "length of X: 150 | length of Y: 150\n",
      "number of unique classes in dataset: [0 1 2]\n",
      "Number of samples per class:[50 50 50]\n"
     ]
    }
   ],
   "source": [
    "# Load dataset\n",
    "data = load_iris()\n",
    "X = data.data\n",
    "Y = data.target\n",
    "\n",
    "# Type of data\n",
    "print('Type of data:', type(X[0]))\n",
    "\n",
    "# length of data\n",
    "print(f'length of X: {len(X)} | length of Y: {len(Y)}')\n",
    "\n",
    "# Number of unique classes in dataset\n",
    "print('number of unique classes in dataset:', np.unique(Y))\n",
    "\n",
    "# Do we have balanced dataset\n",
    "print(f'Number of samples per class:{np.bincount(Y)}')"
   ]
  },
  {
   "cell_type": "code",
   "execution_count": 3,
   "id": "ffe9809a",
   "metadata": {},
   "outputs": [
    {
     "name": "stdout",
     "output_type": "stream",
     "text": [
      "Mean: [5.84333333 3.05733333 3.758      1.19933333] | Std: [0.82530129 0.43441097 1.75940407 0.75969263]\n",
      "Normalized data\n",
      "Mean: [-1.69031455e-15 -1.84297022e-15 -1.69864123e-15 -1.40924309e-15] | Std: [1. 1. 1. 1.]\n"
     ]
    }
   ],
   "source": [
    "# Normalization check\n",
    "print(f'Mean: {X.mean(axis=0)} | Std: {X.std(axis=0)}')\n",
    "\n",
    "# Normalize the features\n",
    "Scaler = StandardScaler()\n",
    "X = Scaler.fit_transform(X)\n",
    "\n",
    "print('Normalized data')\n",
    "print(f'Mean: {X.mean(axis=0)} | Std: {X.std(axis=0)}')"
   ]
  },
  {
   "cell_type": "code",
   "execution_count": 4,
   "id": "d31c1820",
   "metadata": {},
   "outputs": [
    {
     "name": "stdout",
     "output_type": "stream",
     "text": [
      "Training samples (X): (120, 4)\n",
      "Training targets (Y): (120,)\n",
      "Testing samples (X): (30, 4)\n",
      "Testing targets (Y): (30,)\n"
     ]
    }
   ],
   "source": [
    "# split the data\n",
    "train_x, test_x, train_y, test_y = train_test_split(X, Y, test_size= 0.2, random_state=43, shuffle=True)\n",
    "\n",
    "print(f'Training samples (X): {train_x.shape}')\n",
    "print(f'Training targets (Y): {train_y.shape}')\n",
    "print(f'Testing samples (X): {test_x.shape}')\n",
    "print(f'Testing targets (Y): {test_y.shape}')"
   ]
  },
  {
   "cell_type": "code",
   "execution_count": 5,
   "id": "cc953899",
   "metadata": {},
   "outputs": [],
   "source": [
    "# To float 32\n",
    "'''\n",
    "for memory efficency and ML framework matching/preferences we convert features into float32\n",
    "'''\n",
    "\n",
    "train_x = train_x.astype('float32')\n",
    "test_x = test_x.astype('float32')"
   ]
  },
  {
   "cell_type": "markdown",
   "id": "2641f89f",
   "metadata": {},
   "source": [
    "# Dataset, DataLoader and Model"
   ]
  },
  {
   "cell_type": "code",
   "execution_count": 6,
   "id": "42a071c4",
   "metadata": {},
   "outputs": [],
   "source": [
    "# Dataset and DataLoader\n",
    "from dataset import IrisDataset\n",
    "\n",
    "dataset = IrisDataset(train_x, train_y)\n",
    "dataloader = DataLoader(dataset, batch_size=4, shuffle=True)"
   ]
  },
  {
   "cell_type": "code",
   "execution_count": 7,
   "id": "b9814944",
   "metadata": {},
   "outputs": [],
   "source": [
    "# Model\n",
    "from model import IrisClassification\n",
    "\n",
    "# inputs\n",
    "num_features = X.shape[1]\n",
    "num_hiddenstate = 6 # Hyper parameter\n",
    "num_classes = len(np.unique(Y))\n",
    "\n",
    "# Instatiate the model\n",
    "Iris_classifier = IrisClassification(num_features=num_features, num_hiddenstate=num_hiddenstate, num_classes=num_classes)"
   ]
  },
  {
   "cell_type": "markdown",
   "id": "ea763569",
   "metadata": {},
   "source": [
    "# Training"
   ]
  },
  {
   "cell_type": "code",
   "execution_count": 8,
   "id": "9b1ec363",
   "metadata": {},
   "outputs": [],
   "source": [
    "# Loss\n",
    "loss_function = nn.CrossEntropyLoss()\n",
    "\n",
    "# Optimizer\n",
    "LR = 0.01\n",
    "optimizer = torch.optim.SGD(Iris_classifier.parameters(), lr=LR)"
   ]
  },
  {
   "cell_type": "code",
   "execution_count": 9,
   "id": "03f6bf0b",
   "metadata": {},
   "outputs": [
    {
     "name": "stdout",
     "output_type": "stream",
     "text": [
      "Epoch:0 | loss: 1.1987367868423462\n",
      "Epoch:1 | loss: 1.1013827323913574\n",
      "Epoch:2 | loss: 1.0966010093688965\n",
      "Epoch:3 | loss: 1.0724060535430908\n",
      "Epoch:4 | loss: 1.157611608505249\n",
      "Epoch:5 | loss: 1.1104339361190796\n",
      "Epoch:6 | loss: 1.0784707069396973\n",
      "Epoch:7 | loss: 1.0764579772949219\n",
      "Epoch:8 | loss: 1.0518591403961182\n",
      "Epoch:9 | loss: 1.0801633596420288\n",
      "Epoch:10 | loss: 1.0535657405853271\n",
      "Epoch:11 | loss: 1.0672330856323242\n",
      "Epoch:12 | loss: 1.0265061855316162\n",
      "Epoch:13 | loss: 1.0188666582107544\n",
      "Epoch:14 | loss: 1.0018595457077026\n",
      "Epoch:15 | loss: 0.9949086904525757\n",
      "Epoch:16 | loss: 0.998438835144043\n",
      "Epoch:17 | loss: 0.9694764614105225\n",
      "Epoch:18 | loss: 0.973240852355957\n",
      "Epoch:19 | loss: 0.9825547337532043\n",
      "Epoch:20 | loss: 0.9143933057785034\n",
      "Epoch:21 | loss: 0.9640114307403564\n",
      "Epoch:22 | loss: 0.9303715229034424\n",
      "Epoch:23 | loss: 0.9065523147583008\n",
      "Epoch:24 | loss: 0.9417746067047119\n",
      "Epoch:25 | loss: 0.808904767036438\n",
      "Epoch:26 | loss: 0.8689444065093994\n",
      "Epoch:27 | loss: 0.9031546115875244\n",
      "Epoch:28 | loss: 0.8421667814254761\n",
      "Epoch:29 | loss: 0.8846197724342346\n",
      "Epoch:30 | loss: 0.9014146327972412\n",
      "Epoch:31 | loss: 0.8483007550239563\n",
      "Epoch:32 | loss: 0.7887359261512756\n",
      "Epoch:33 | loss: 0.8678174018859863\n",
      "Epoch:34 | loss: 0.7744495868682861\n",
      "Epoch:35 | loss: 0.6306453347206116\n",
      "Epoch:36 | loss: 0.8480196595191956\n",
      "Epoch:37 | loss: 0.7054417729377747\n",
      "Epoch:38 | loss: 0.633253276348114\n",
      "Epoch:39 | loss: 0.7631770372390747\n",
      "Epoch:40 | loss: 0.7434857487678528\n",
      "Epoch:41 | loss: 0.8056814074516296\n",
      "Epoch:42 | loss: 0.8816647529602051\n",
      "Epoch:43 | loss: 0.721000075340271\n",
      "Epoch:44 | loss: 0.6144219636917114\n",
      "Epoch:45 | loss: 0.5898385047912598\n",
      "Epoch:46 | loss: 0.7342088222503662\n",
      "Epoch:47 | loss: 0.6459269523620605\n",
      "Epoch:48 | loss: 0.7302377820014954\n",
      "Epoch:49 | loss: 0.6770356893539429\n",
      "Epoch:50 | loss: 0.7190143465995789\n",
      "Epoch:51 | loss: 0.687770664691925\n",
      "Epoch:52 | loss: 0.7083805203437805\n",
      "Epoch:53 | loss: 0.6493375301361084\n",
      "Epoch:54 | loss: 0.6690830588340759\n",
      "Epoch:55 | loss: 0.8170769810676575\n",
      "Epoch:56 | loss: 0.4554086923599243\n",
      "Epoch:57 | loss: 0.6488314867019653\n",
      "Epoch:58 | loss: 0.6573777794837952\n",
      "Epoch:59 | loss: 0.5992074012756348\n",
      "Epoch:60 | loss: 0.5423272252082825\n",
      "Epoch:61 | loss: 0.814183235168457\n",
      "Epoch:62 | loss: 0.6616545915603638\n",
      "Epoch:63 | loss: 0.5911810398101807\n",
      "Epoch:64 | loss: 0.5261061191558838\n",
      "Epoch:65 | loss: 0.625841498374939\n",
      "Epoch:66 | loss: 0.35466182231903076\n",
      "Epoch:67 | loss: 0.5599360466003418\n",
      "Epoch:68 | loss: 0.5635384321212769\n",
      "Epoch:69 | loss: 0.6232131719589233\n",
      "Epoch:70 | loss: 0.38338592648506165\n",
      "Epoch:71 | loss: 0.3982912302017212\n",
      "Epoch:72 | loss: 0.6390503644943237\n",
      "Epoch:73 | loss: 0.5648845434188843\n",
      "Epoch:74 | loss: 0.39080697298049927\n",
      "Epoch:75 | loss: 0.4729248881340027\n",
      "Epoch:76 | loss: 0.3898867666721344\n",
      "Epoch:77 | loss: 0.5442882180213928\n",
      "Epoch:78 | loss: 0.5117307901382446\n",
      "Epoch:79 | loss: 0.4600941836833954\n",
      "Epoch:80 | loss: 0.6493919491767883\n",
      "Epoch:81 | loss: 0.5684616565704346\n",
      "Epoch:82 | loss: 0.5808393955230713\n",
      "Epoch:83 | loss: 0.4065282344818115\n",
      "Epoch:84 | loss: 0.44488227367401123\n",
      "Epoch:85 | loss: 0.516320526599884\n",
      "Epoch:86 | loss: 0.39413219690322876\n",
      "Epoch:87 | loss: 0.5830497741699219\n",
      "Epoch:88 | loss: 0.26600873470306396\n",
      "Epoch:89 | loss: 0.35011184215545654\n",
      "Epoch:90 | loss: 0.35898733139038086\n",
      "Epoch:91 | loss: 0.35725152492523193\n",
      "Epoch:92 | loss: 0.25046318769454956\n",
      "Epoch:93 | loss: 0.4196830987930298\n",
      "Epoch:94 | loss: 0.2870950996875763\n",
      "Epoch:95 | loss: 0.41524839401245117\n",
      "Epoch:96 | loss: 0.48092401027679443\n",
      "Epoch:97 | loss: 0.41955676674842834\n",
      "Epoch:98 | loss: 0.663345456123352\n",
      "Epoch:99 | loss: 0.29074546694755554\n"
     ]
    }
   ],
   "source": [
    "# training loop\n",
    "training_loss = []\n",
    "EPOCHS = 100\n",
    "\n",
    "for epoch in range(EPOCHS):\n",
    "    for batch_num, (X,Y) in enumerate(dataloader):\n",
    "\n",
    "        # initialize weights\n",
    "        optimizer.zero_grad()\n",
    "        \n",
    "        # Predictions\n",
    "        Y_predictions = Iris_classifier(X)\n",
    "\n",
    "        # Calculate loss\n",
    "        loss = loss_function(Y_predictions, Y)\n",
    "\n",
    "        # Backpropogation\n",
    "        loss.backward()\n",
    "\n",
    "        # optimize the weights\n",
    "        optimizer.step()\n",
    "\n",
    "    # print loss\n",
    "    loss_float = float(loss.data.detach().numpy())\n",
    "    training_loss.append(loss_float)\n",
    "    print(f'Epoch:{epoch} | loss: {loss_float}')\n"
   ]
  },
  {
   "cell_type": "code",
   "execution_count": 10,
   "id": "21a82ad3",
   "metadata": {},
   "outputs": [
    {
     "data": {
      "text/plain": [
       "<Axes: >"
      ]
     },
     "execution_count": 10,
     "metadata": {},
     "output_type": "execute_result"
    },
    {
     "data": {
      "image/png": "[encoded data removed]",
      "text/plain": [
       "<Figure size 640x480 with 1 Axes>"
      ]
     },
     "metadata": {},
     "output_type": "display_data"
    }
   ],
   "source": [
    "# training loss graph\n",
    "sns.lineplot(x=range(EPOCHS), y=training_loss)"
   ]
  },
  {
   "cell_type": "markdown",
   "id": "ae8b182e",
   "metadata": {},
   "source": [
    "# Evaluation"
   ]
  },
  {
   "cell_type": "code",
   "execution_count": 14,
   "id": "fcec756f",
   "metadata": {},
   "outputs": [
    {
     "data": {
      "text/plain": [
       "0.9333333333333333"
      ]
     },
     "execution_count": 14,
     "metadata": {},
     "output_type": "execute_result"
    }
   ],
   "source": [
    "# Evaluation using accuracy score\n",
    "with torch.no_grad():\n",
    "    Y_log_predictions = Iris_classifier(test_x)\n",
    "\n",
    "    Y_predictions = torch.max(Y_log_predictions, 1)\n",
    "\n",
    "accuracy_score(test_y, Y_predictions.indices)\n"
   ]
  }
 ],
 "metadata": {
  "kernelspec": {
   "display_name": "HeartAttackPredictor",
   "language": "python",
   "name": "python3"
  },
  "language_info": {
   "codemirror_mode": {
    "name": "ipython",
    "version": 3
   },
   "file_extension": ".py",
   "mimetype": "text/x-python",
   "name": "python",
   "nbconvert_exporter": "python",
   "pygments_lexer": "ipython3",
   "version": "3.13.7"
  }
 },
 "nbformat": 4,
 "nbformat_minor": 5
}
