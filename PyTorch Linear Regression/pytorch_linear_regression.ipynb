{
 "cells": [
  {
   "cell_type": "markdown",
   "id": "c58f8e33",
   "metadata": {},
   "source": [
    "# Linear Regression"
   ]
  },
  {
   "cell_type": "code",
   "execution_count": 30,
   "id": "44d7d03d",
   "metadata": {},
   "outputs": [
    {
     "data": {
      "text/html": [
       "<div>\n",
       "<style scoped>\n",
       "    .dataframe tbody tr th:only-of-type {\n",
       "        vertical-align: middle;\n",
       "    }\n",
       "\n",
       "    .dataframe tbody tr th {\n",
       "        vertical-align: top;\n",
       "    }\n",
       "\n",
       "    .dataframe thead th {\n",
       "        text-align: right;\n",
       "    }\n",
       "</style>\n",
       "<table border=\"1\" class=\"dataframe\">\n",
       "  <thead>\n",
       "    <tr style=\"text-align: right;\">\n",
       "      <th></th>\n",
       "      <th>Unnamed: 0</th>\n",
       "      <th>mpg</th>\n",
       "      <th>cyl</th>\n",
       "      <th>disp</th>\n",
       "      <th>hp</th>\n",
       "      <th>drat</th>\n",
       "      <th>wt</th>\n",
       "      <th>qsec</th>\n",
       "      <th>vs</th>\n",
       "      <th>am</th>\n",
       "      <th>gear</th>\n",
       "      <th>carb</th>\n",
       "    </tr>\n",
       "  </thead>\n",
       "  <tbody>\n",
       "    <tr>\n",
       "      <th>0</th>\n",
       "      <td>Mazda RX4</td>\n",
       "      <td>21.0</td>\n",
       "      <td>6</td>\n",
       "      <td>160.0</td>\n",
       "      <td>110</td>\n",
       "      <td>3.9</td>\n",
       "      <td>2.620</td>\n",
       "      <td>16.46</td>\n",
       "      <td>0</td>\n",
       "      <td>1</td>\n",
       "      <td>4</td>\n",
       "      <td>4</td>\n",
       "    </tr>\n",
       "    <tr>\n",
       "      <th>1</th>\n",
       "      <td>Mazda RX4 Wag</td>\n",
       "      <td>21.0</td>\n",
       "      <td>6</td>\n",
       "      <td>160.0</td>\n",
       "      <td>110</td>\n",
       "      <td>3.9</td>\n",
       "      <td>2.875</td>\n",
       "      <td>17.02</td>\n",
       "      <td>0</td>\n",
       "      <td>1</td>\n",
       "      <td>4</td>\n",
       "      <td>4</td>\n",
       "    </tr>\n",
       "  </tbody>\n",
       "</table>\n",
       "</div>"
      ],
      "text/plain": [
       "      Unnamed: 0   mpg  cyl   disp   hp  drat     wt   qsec  vs  am  gear  \\\n",
       "0      Mazda RX4  21.0    6  160.0  110   3.9  2.620  16.46   0   1     4   \n",
       "1  Mazda RX4 Wag  21.0    6  160.0  110   3.9  2.875  17.02   0   1     4   \n",
       "\n",
       "   carb  \n",
       "0     4  \n",
       "1     4  "
      ]
     },
     "execution_count": 30,
     "metadata": {},
     "output_type": "execute_result"
    }
   ],
   "source": [
    "# Imports\n",
    "import pandas as pd\n",
    "import torch\n",
    "import numpy as np\n",
    "import torch.nn as nn\n",
    "import seaborn as sns\n",
    "\n",
    "# read csv\n",
    "data = pd.read_csv('cars.csv')\n",
    "data.head(2)"
   ]
  },
  {
   "cell_type": "code",
   "execution_count": 31,
   "id": "77dca43d",
   "metadata": {},
   "outputs": [],
   "source": [
    "# Independent variable procesisng\n",
    "X_list = data.wt.values\n",
    "X_np = np.array(X_list, dtype=np.float32).reshape(-1,1)\n",
    "X = torch.from_numpy(X_np)\n",
    "\n",
    "# Dependent variable procesisng\n",
    "y_list = data.mpg.values\n",
    "y_np = np.array(y_list, dtype=np.float32).reshape(-1,1)\n",
    "Y = torch.from_numpy(y_np)\n"
   ]
  },
  {
   "cell_type": "code",
   "execution_count": 32,
   "id": "42f8f7ff",
   "metadata": {},
   "outputs": [],
   "source": [
    "# model initialization\n",
    "from model import MPGPredictor\n",
    "\n",
    "input_size = 1\n",
    "output_size = 1\n",
    "\n",
    "MPG_Predictor = MPGPredictor(input_size, output_size)"
   ]
  },
  {
   "cell_type": "code",
   "execution_count": 33,
   "id": "dfd58023",
   "metadata": {},
   "outputs": [
    {
     "name": "stdout",
     "output_type": "stream",
     "text": [
      "Epochs: 0\n",
      "loss tensor(401.3748, grad_fn=<MseLossBackward0>)\n",
      "--------------------------\n",
      "Epochs: 100\n",
      "loss tensor(66.2562, grad_fn=<MseLossBackward0>)\n",
      "--------------------------\n"
     ]
    },
    {
     "name": "stdout",
     "output_type": "stream",
     "text": [
      "Epochs: 200\n",
      "loss tensor(40.0037, grad_fn=<MseLossBackward0>)\n",
      "--------------------------\n",
      "Epochs: 300\n",
      "loss tensor(25.7250, grad_fn=<MseLossBackward0>)\n",
      "--------------------------\n",
      "Epochs: 400\n",
      "loss tensor(17.9588, grad_fn=<MseLossBackward0>)\n",
      "--------------------------\n",
      "Epochs: 500\n",
      "loss tensor(13.7347, grad_fn=<MseLossBackward0>)\n",
      "--------------------------\n",
      "Epochs: 600\n",
      "loss tensor(11.4373, grad_fn=<MseLossBackward0>)\n",
      "--------------------------\n",
      "Epochs: 700\n",
      "loss tensor(10.1877, grad_fn=<MseLossBackward0>)\n",
      "--------------------------\n",
      "Epochs: 800\n",
      "loss tensor(9.5080, grad_fn=<MseLossBackward0>)\n",
      "--------------------------\n",
      "Epochs: 900\n",
      "loss tensor(9.1384, grad_fn=<MseLossBackward0>)\n",
      "--------------------------\n"
     ]
    }
   ],
   "source": [
    "# loss function\n",
    "loss_fucntion = nn.MSELoss()\n",
    "\n",
    "# Hyper parameters\n",
    "LR = 0.02\n",
    "EPOCHS = 1000\n",
    "\n",
    "# Optimizer\n",
    "optimizer = torch.optim.SGD(MPG_Predictor.parameters(), lr=LR)\n",
    "\n",
    "# Training loop\n",
    "for i in range(EPOCHS):\n",
    "\n",
    "    # Optimizer grad to zero\n",
    "    optimizer.zero_grad()\n",
    "    \n",
    "    # Forward pass\n",
    "    y_prediction = MPG_Predictor(X)\n",
    "\n",
    "    # Compute loss\n",
    "    loss = loss_fucntion(y_prediction, Y)\n",
    "\n",
    "    # Calculate gredients\n",
    "    loss.backward()\n",
    "\n",
    "    # optimize\n",
    "    optimizer.step()\n",
    "\n",
    "    if i % 100 == 0:\n",
    "        print('Epochs:', i)\n",
    "        print('loss', loss)\n",
    "        print('--------------------------')\n",
    "\n",
    "\n",
    "\n"
   ]
  },
  {
   "cell_type": "code",
   "execution_count": null,
   "id": "c06091f4",
   "metadata": {},
   "outputs": [],
   "source": []
  },
  {
   "cell_type": "code",
   "execution_count": 36,
   "id": "6101e0b1",
   "metadata": {},
   "outputs": [
    {
     "data": {
      "text/plain": [
       "<Axes: >"
      ]
     },
     "execution_count": 36,
     "metadata": {},
     "output_type": "execute_result"
    },
    {
     "data": {
      "image/png": "[encoded data removed]",
      "text/plain": [
       "<Figure size 640x480 with 1 Axes>"
      ]
     },
     "metadata": {},
     "output_type": "display_data"
    }
   ],
   "source": [
    "# Evaluation\n",
    "\n",
    "y_prediction = MPG_Predictor(X).data.numpy().reshape(-1) # removing batch dimension\n",
    "\n",
    "# plots\n",
    "sns.scatterplot(x=X_list, y=y_list) # real target values against inputs\n",
    "sns.scatterplot(x=X_list, y=y_prediction) # predictions againsts inputs"
   ]
  },
  {
   "cell_type": "markdown",
   "id": "e881810b",
   "metadata": {},
   "source": [
    "# Results\n",
    "We can see from graph that we have trained the model well but it seems that slope can be improved."
   ]
  }
 ],
 "metadata": {
  "kernelspec": {
   "display_name": "HeartAttackPredictor",
   "language": "python",
   "name": "python3"
  },
  "language_info": {
   "codemirror_mode": {
    "name": "ipython",
    "version": 3
   },
   "file_extension": ".py",
   "mimetype": "text/x-python",
   "name": "python",
   "nbconvert_exporter": "python",
   "pygments_lexer": "ipython3",
   "version": "3.13.7"
  }
 },
 "nbformat": 4,
 "nbformat_minor": 5
}
