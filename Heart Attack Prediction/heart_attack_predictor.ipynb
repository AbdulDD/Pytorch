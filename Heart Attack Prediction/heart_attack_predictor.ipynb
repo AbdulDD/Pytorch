{
 "cells": [
  {
   "cell_type": "markdown",
   "id": "9a4e47a3",
   "metadata": {},
   "source": [
    "# Load and Process Dataset"
   ]
  },
  {
   "cell_type": "code",
   "execution_count": null,
   "id": "5ece8e39",
   "metadata": {},
   "outputs": [
    {
     "name": "stdout",
     "output_type": "stream",
     "text": [
      "Shape for X (303, 13)\n",
      "Shape for Y (303,)\n",
      "Shape for Normalized training data dependent variables (242, 13)\n",
      "Shape for Normalized testing data dependent variables (61, 13)\n"
     ]
    }
   ],
   "source": [
    "# Imports\n",
    "import numpy as np\n",
    "import pandas as pd\n",
    "import seaborn as sns\n",
    "from sklearn.model_selection import train_test_split\n",
    "from sklearn.preprocessing import StandardScaler\n",
    "from sklearn.metrics import confusion_matrix\n",
    "\n",
    "# Load Data\n",
    "data = pd.read_csv('heart.csv')\n",
    "data.shape\n",
    "\n",
    "# Two samples\n",
    "#data.head(2)\n",
    "\n",
    "# Seprate features and labels\n",
    "X = np.array(data.loc[:, data.columns != 'output'])\n",
    "Y = np.array(data['output'])\n",
    "\n",
    "print('Shape for X', X.shape)\n",
    "print('Shape for Y', Y.shape)\n",
    "\n",
    "# Split the data\n",
    "X_train, X_test, Y_train, Y_test = train_test_split(X, Y, test_size = 0.2, random_state=123)\n",
    "\n",
    "\n",
    "# Standardize Dependent features of data\n",
    "Scaler = StandardScaler()\n",
    "Normalized_X_train = Scaler.fit_transform(X_train)\n",
    "Normalized_X_test = Scaler.transform(X_test)\n",
    "\n",
    "\n",
    "print('Shape for Normalized training data dependent variables', Normalized_X_train.shape)\n",
    "print('Shape for Normalized testing data dependent variables', Normalized_X_test.shape)"
   ]
  },
  {
   "cell_type": "markdown",
   "id": "bba73c7d",
   "metadata": {},
   "source": [
    "# Load Model instance and Training"
   ]
  },
  {
   "cell_type": "code",
   "execution_count": 6,
   "id": "11c8d1df",
   "metadata": {},
   "outputs": [
    {
     "data": {
      "text/plain": [
       "'Training complete'"
      ]
     },
     "execution_count": 6,
     "metadata": {},
     "output_type": "execute_result"
    }
   ],
   "source": [
    "from model import HeartAttackPredictor\n",
    "\n",
    "# Hyper parameters\n",
    "LR = 0.1\n",
    "ITERATIONS = 1000\n",
    "\n",
    "# model instance and training\n",
    "HAB = HeartAttackPredictor(learning_rate=LR, x_train=Normalized_X_train, y_train=Y_train, x_test=Normalized_X_test, y_test=Y_test)\n",
    "HAB.train(iterations=ITERATIONS)"
   ]
  },
  {
   "cell_type": "markdown",
   "id": "e9581a6c",
   "metadata": {},
   "source": [
    "# Evaluation"
   ]
  },
  {
   "cell_type": "code",
   "execution_count": 7,
   "id": "b3a7a241",
   "metadata": {},
   "outputs": [
    {
     "data": {
      "text/plain": [
       "<Axes: >"
      ]
     },
     "execution_count": 7,
     "metadata": {},
     "output_type": "execute_result"
    },
    {
     "data": {
      "image/png": "[encoded data removed]",
      "text/plain": [
       "<Figure size 640x480 with 1 Axes>"
      ]
     },
     "metadata": {},
     "output_type": "display_data"
    }
   ],
   "source": [
    "# Training loss\n",
    "#sns.lineplot(x=list(range(len(HAB.train_loss))), y=HAB.train_loss)\n",
    "\n",
    "# Test loss\n",
    "sns.lineplot(x=list(range(len(HAB.test_loss))), y=HAB.test_loss)"
   ]
  },
  {
   "cell_type": "code",
   "execution_count": null,
   "id": "84abbe35",
   "metadata": {},
   "outputs": [
    {
     "name": "stdout",
     "output_type": "stream",
     "text": [
      "0.8032786885245902\n"
     ]
    }
   ],
   "source": [
    "# calculate accuracy\n",
    "total = Normalized_X_test.shape[0]\n",
    "correct = 0\n",
    "y_preds = []\n",
    "for i in range(total):\n",
    "    y_true = Y_test[i]\n",
    "    y_pred = np.round(HAB.forward_pass(Normalized_X_test[i]))\n",
    "    y_preds.append(y_pred)\n",
    "    correct += 1 if y_true == y_pred else 0\n",
    "\n",
    "acc = correct / total\n",
    "print(acc)\n"
   ]
  },
  {
   "cell_type": "code",
   "execution_count": 11,
   "id": "bcda22c6",
   "metadata": {},
   "outputs": [
    {
     "data": {
      "text/plain": [
       "array([[26,  4],\n",
       "       [ 8, 23]])"
      ]
     },
     "execution_count": 11,
     "metadata": {},
     "output_type": "execute_result"
    }
   ],
   "source": [
    "# %% Baseline Classifier\n",
    "from collections import Counter\n",
    "Counter(Y_test)\n",
    "# %% Confusion Matrix\n",
    "confusion_matrix(y_true = Y_test, y_pred = y_preds)\n"
   ]
  },
  {
   "cell_type": "code",
   "execution_count": null,
   "id": "95f2ecbf",
   "metadata": {},
   "outputs": [],
   "source": []
  }
 ],
 "metadata": {
  "kernelspec": {
   "display_name": "HeartAttackPredictor",
   "language": "python",
   "name": "python3"
  },
  "language_info": {
   "codemirror_mode": {
    "name": "ipython",
    "version": 3
   },
   "file_extension": ".py",
   "mimetype": "text/x-python",
   "name": "python",
   "nbconvert_exporter": "python",
   "pygments_lexer": "ipython3",
   "version": "3.13.7"
  }
 },
 "nbformat": 4,
 "nbformat_minor": 5
}
