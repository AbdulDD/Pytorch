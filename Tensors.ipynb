{
  "nbformat": 4,
  "nbformat_minor": 0,
  "metadata": {
    "colab": {
      "provenance": [],
      "authorship_tag": "ABX9TyNdLrkxy7LwaPg9NTcfFC5L",
      "include_colab_link": true
    },
    "kernelspec": {
      "name": "python3",
      "display_name": "Python 3"
    },
    "language_info": {
      "name": "python"
    }
  },
  "cells": [
    {
      "cell_type": "markdown",
      "metadata": {
        "id": "view-in-github",
        "colab_type": "text"
      },
      "source": [
        "<a href=\"https://colab.research.google.com/github/AbdulDD/Pytorch/blob/main/Tensors.ipynb\" target=\"_parent\"><img src=\"https://colab.research.google.com/assets/colab-badge.svg\" alt=\"Open In Colab\"/></a>"
      ]
    },
    {
      "cell_type": "markdown",
      "source": [
        "# Tensors\n",
        "Tensors are the core data abstraction in PyTorch. They simplify complex numerical computations and manage hardware acceleration behind the scenes. This abstraction allows developers to focus on building the high-level logic of neural networks, while PyTorch efficiently handles the low-level execution of operations on the available hardware, such as CPUs or GPUs.\n",
        "\n",
        "**Strengths of Tensors**\n",
        "- Hardware Acceleration\n",
        "- Automatic Differentiation\n",
        "- Broadcasting\n",
        "- Integration with Python\n",
        "\n",
        "In this Notebook we will practice Tensor class of PyTorch."
      ],
      "metadata": {
        "id": "7PN50RnSmMrp"
      }
    },
    {
      "cell_type": "code",
      "source": [
        "# Imports\n",
        "import torch\n",
        "import math"
      ],
      "metadata": {
        "id": "JTXgSOr5pO3t"
      },
      "execution_count": 2,
      "outputs": []
    },
    {
      "cell_type": "markdown",
      "source": [
        "## Creating tensors and random seeding"
      ],
      "metadata": {
        "id": "dmjTm9jJ6Rsh"
      }
    },
    {
      "cell_type": "code",
      "source": [
        "# create tensors\n",
        "\n",
        "# empty tensor\n",
        "emp = torch.empty(1, 4)\n",
        "zeros_tensor = torch.zeros(2,2)\n",
        "\n",
        "emp, zeros_tensor"
      ],
      "metadata": {
        "colab": {
          "base_uri": "https://localhost:8080/"
        },
        "id": "cp6zuZaP3ZBH",
        "outputId": "411e398b-8d1f-43be-e0f0-6292d4266407"
      },
      "execution_count": 8,
      "outputs": [
        {
          "output_type": "execute_result",
          "data": {
            "text/plain": [
              "(tensor([[ 3.3339e-14,  0.0000e+00, -4.0724e+15,  4.4923e-41]]),\n",
              " tensor([[0., 0.],\n",
              "         [0., 0.]]))"
            ]
          },
          "metadata": {},
          "execution_count": 8
        }
      ]
    },
    {
      "cell_type": "code",
      "source": [
        "'''\n",
        "manual_seed is usedd to create a reproducable tensor\n",
        "'''\n",
        "\n",
        "# Initialize random weights with seed\n",
        "seed = torch.manual_seed(1729)\n",
        "weights = torch.rand(4,4)\n",
        "print(weights)\n",
        "\n",
        "\n",
        "print('--------------------------------------')\n",
        "\n",
        "# Update the weights\n",
        "weights = weights + 3\n",
        "print(weights)\n",
        "\n",
        "print('--------------------------------------')\n",
        "\n",
        "# Re-Initialize the weights with seed\n",
        "seed = torch.manual_seed(1729)\n",
        "weights = torch.rand(4,4)\n",
        "print(weights)\n"
      ],
      "metadata": {
        "colab": {
          "base_uri": "https://localhost:8080/"
        },
        "id": "6hkwTQcg3mqv",
        "outputId": "09fb140b-ac56-4701-cb6f-7e3487674058"
      },
      "execution_count": 12,
      "outputs": [
        {
          "output_type": "stream",
          "name": "stdout",
          "text": [
            "tensor([[0.3126, 0.3791, 0.3087, 0.0736],\n",
            "        [0.4216, 0.0691, 0.2332, 0.4047],\n",
            "        [0.2162, 0.9927, 0.4128, 0.5938],\n",
            "        [0.6128, 0.1519, 0.0453, 0.5035]])\n",
            "--------------------------------------\n",
            "tensor([[3.3126, 3.3791, 3.3087, 3.0736],\n",
            "        [3.4216, 3.0691, 3.2332, 3.4047],\n",
            "        [3.2162, 3.9927, 3.4128, 3.5938],\n",
            "        [3.6128, 3.1519, 3.0453, 3.5035]])\n",
            "--------------------------------------\n",
            "tensor([[0.3126, 0.3791, 0.3087, 0.0736],\n",
            "        [0.4216, 0.0691, 0.2332, 0.4047],\n",
            "        [0.2162, 0.9927, 0.4128, 0.5938],\n",
            "        [0.6128, 0.1519, 0.0453, 0.5035]])\n"
          ]
        }
      ]
    },
    {
      "cell_type": "code",
      "source": [
        "# Create Tensors directly\n",
        "\n",
        "'''\n",
        "torch.tensor takes one argument\n",
        "ARGUMENT:\n",
        "1. list\n",
        "2. tuple\n",
        "3. list of lists/tuples\n",
        "4. tuple of lists/tuples\n",
        "5. tuple/list of hubird e.g torch.tensor(([1,2,4,5], (1,4,2,3)))\n",
        "\n",
        "NOTE: for case 3,4,5 dimensions of all elements (lists/tuples) in tensor must be same\n",
        "'''\n",
        "\n",
        "w = torch.tensor([1,3,4,5,6])\n",
        "x = torch.tensor([[1,3,5,7], [2,4,6,8]])\n",
        "y = torch.tensor(((12,45,67,23,23),(1,2,3,4,4)))\n",
        "z = torch.tensor(([1,2,4,5], (1,4,2,3)))"
      ],
      "metadata": {
        "id": "uMuKobHf8KnJ"
      },
      "execution_count": 22,
      "outputs": []
    },
    {
      "cell_type": "markdown",
      "source": [
        "## Tensors shapes\n",
        "- creating tensors with same dimension as we have in our input is possible with underscre ('torch.*_like(input)')"
      ],
      "metadata": {
        "id": "LdxIDU5X6Wty"
      }
    },
    {
      "cell_type": "code",
      "source": [
        "# input\n",
        "x = torch.empty(2, 4,  4)\n",
        "\n",
        "# create tensor with ones of shape same as x\n",
        "y = torch.ones_like(x)\n",
        "\n",
        "# Check the shapes\n",
        "x.shape, y.shape"
      ],
      "metadata": {
        "colab": {
          "base_uri": "https://localhost:8080/"
        },
        "id": "_wdZ4Q9c4uoO",
        "outputId": "4adb520e-bf28-407b-8155-d7bbca2591a0"
      },
      "execution_count": 21,
      "outputs": [
        {
          "output_type": "execute_result",
          "data": {
            "text/plain": [
              "(torch.Size([2, 4, 4]), torch.Size([2, 4, 4]))"
            ]
          },
          "metadata": {},
          "execution_count": 21
        }
      ]
    },
    {
      "cell_type": "markdown",
      "source": [
        "## Data types of tensor"
      ],
      "metadata": {
        "id": "j1U2k8JJ-RrF"
      }
    },
    {
      "cell_type": "code",
      "source": [
        "# check data types of tensors\n",
        "w.dtype, z.dtype\n",
        "\n",
        "\n",
        "# setting data type at creation time for tensors\n",
        "filter_data = torch.ones((3,4), dtype=torch.float32)\n",
        "print(filter_data.dtype)"
      ],
      "metadata": {
        "colab": {
          "base_uri": "https://localhost:8080/"
        },
        "id": "h4cKKCEu6y7G",
        "outputId": "a346ab04-28b3-4644-feed-b3a7bcf6c75f"
      },
      "execution_count": 29,
      "outputs": [
        {
          "output_type": "stream",
          "name": "stdout",
          "text": [
            "torch.float32\n"
          ]
        }
      ]
    },
    {
      "cell_type": "markdown",
      "source": [
        "## Alter and Clone tensors\n",
        "\n"
      ],
      "metadata": {
        "id": "MaM2e0AwAgm9"
      }
    },
    {
      "cell_type": "code",
      "source": [
        "'''\n",
        "Alter\n",
        "to alter a tensor directly in memory (efficient memory use) we use ('_')\n",
        "Example:\n",
        "'''\n",
        "\n",
        "# No change since we did not changed it in memory\n",
        "a = torch.tensor([1,2,4])\n",
        "b = a\n",
        "\n",
        "a = a*4\n",
        "\n",
        "print(a)\n",
        "print(b)\n",
        "\n",
        "# change it in memory\n",
        "a = torch.tensor([1,2,4])\n",
        "b = a\n",
        "\n",
        "a = a.mul_(4)\n",
        "\n",
        "print(a)\n",
        "print(b)"
      ],
      "metadata": {
        "colab": {
          "base_uri": "https://localhost:8080/"
        },
        "id": "obBTHQjiCdNy",
        "outputId": "4016a5cc-15e5-4093-9566-e1e8c4891d3a"
      },
      "execution_count": 35,
      "outputs": [
        {
          "output_type": "stream",
          "name": "stdout",
          "text": [
            "tensor([ 4,  8, 16])\n",
            "tensor([1, 2, 4])\n",
            "tensor([ 4,  8, 16])\n",
            "tensor([ 4,  8, 16])\n"
          ]
        }
      ]
    },
    {
      "cell_type": "code",
      "source": [
        "'''\n",
        "Clone\n",
        "\n",
        "- By assigning a tensor to a variable (a,b,c,...) we set a new label for same tensor,\n",
        "- the tensor is not copied. To copy a tensor we have to clone() it.\n",
        "'''\n",
        "# create a tensor\n",
        "x = torch.ones(2,2)\n",
        "\n",
        "# assign it to other variable\n",
        "y = x\n",
        "\n",
        "# clone it\n",
        "z = x.clone()\n",
        "\n",
        "# perform multiplication operation on x\n",
        "x.mul_(2)\n",
        "\n",
        "# check now\n",
        "print(x)\n",
        "print(y)\n",
        "print(z)\n",
        "\n"
      ],
      "metadata": {
        "colab": {
          "base_uri": "https://localhost:8080/"
        },
        "id": "kbkiOJ80-ovk",
        "outputId": "c84b0594-ec7e-48db-c4d7-4eedb76a66f1"
      },
      "execution_count": 40,
      "outputs": [
        {
          "output_type": "stream",
          "name": "stdout",
          "text": [
            "tensor([[2., 2.],\n",
            "        [2., 2.]])\n",
            "tensor([[2., 2.],\n",
            "        [2., 2.]])\n",
            "tensor([[1., 1.],\n",
            "        [1., 1.]])\n"
          ]
        }
      ]
    },
    {
      "cell_type": "markdown",
      "source": [
        "## squeeze() and unsqueeze()\n",
        "- PyTorch takes input in batches an therefore tensors normally have an extra dimension added that is batch.\n",
        "- Therefore if we are working with single sample we have to use squeeze() that removes batch dimension\n",
        "- On otherhand unsqueeze() adds an extent dmension of 1\n",
        "- squeeze() and unsequeeze only works with one dimension"
      ],
      "metadata": {
        "id": "KqCm183iEXyM"
      }
    },
    {
      "cell_type": "code",
      "source": [
        "'''\n",
        "- squeeze() removes batch dimension\n",
        "'''\n",
        "a = torch.rand(1, 20)\n",
        "print(a.shape)\n",
        "print(a)\n",
        "\n",
        "b = a.squeeze(0)\n",
        "print(b.shape)\n",
        "print(b)"
      ],
      "metadata": {
        "colab": {
          "base_uri": "https://localhost:8080/"
        },
        "id": "JqsNaAlLGveh",
        "outputId": "6296ec78-5ea4-4cdf-f901-f8a63c8023af"
      },
      "execution_count": 43,
      "outputs": [
        {
          "output_type": "stream",
          "name": "stdout",
          "text": [
            "torch.Size([1, 20])\n",
            "tensor([[0.7220, 0.8217, 0.2612, 0.7375, 0.8328, 0.8444, 0.2941, 0.3788, 0.4567,\n",
            "         0.0649, 0.6677, 0.7826, 0.1332, 0.0023, 0.4945, 0.3857, 0.9883, 0.4762,\n",
            "         0.7242, 0.0776]])\n",
            "torch.Size([20])\n",
            "tensor([0.7220, 0.8217, 0.2612, 0.7375, 0.8328, 0.8444, 0.2941, 0.3788, 0.4567,\n",
            "        0.0649, 0.6677, 0.7826, 0.1332, 0.0023, 0.4945, 0.3857, 0.9883, 0.4762,\n",
            "        0.7242, 0.0776])\n"
          ]
        }
      ]
    },
    {
      "cell_type": "code",
      "source": [
        "'''\n",
        "- squeeze() and unsequeeze() only works with one dimension\n",
        "'''\n",
        "c = torch.rand(2, 2)\n",
        "print(c.shape)\n",
        "\n",
        "d = c.squeeze(0)\n",
        "print(d.shape)"
      ],
      "metadata": {
        "colab": {
          "base_uri": "https://localhost:8080/"
        },
        "id": "HGjvmAn3HWMi",
        "outputId": "1726c9b7-0c58-4439-d49a-26f942759d82"
      },
      "execution_count": 44,
      "outputs": [
        {
          "output_type": "stream",
          "name": "stdout",
          "text": [
            "torch.Size([2, 2])\n",
            "torch.Size([2, 2])\n"
          ]
        }
      ]
    },
    {
      "cell_type": "code",
      "source": [
        "'''\n",
        "- unsqueeze() adds batch dimension\n",
        "'''\n",
        "a = torch.rand(2,3,3)\n",
        "b = a.unsqueeze(0)\n",
        "\n",
        "print(a.shape)\n",
        "print(b.shape)"
      ],
      "metadata": {
        "colab": {
          "base_uri": "https://localhost:8080/"
        },
        "id": "RffevfGTHZVX",
        "outputId": "12e40ad2-5700-408d-b385-475505c32a5d"
      },
      "execution_count": 45,
      "outputs": [
        {
          "output_type": "stream",
          "name": "stdout",
          "text": [
            "torch.Size([2, 3, 3])\n",
            "torch.Size([1, 2, 3, 3])\n"
          ]
        }
      ]
    },
    {
      "cell_type": "markdown",
      "source": [
        "## AutoGrad and detach()\n",
        "- Autograd calculates the gradients after backpropogation directly\n",
        "- detach removes the gradients history from tensor (As in C tensor)"
      ],
      "metadata": {
        "id": "tli5H3C3FX9e"
      }
    },
    {
      "cell_type": "code",
      "source": [
        "a = torch.rand(2, 2, requires_grad=True) # turn on autograd\n",
        "print(a)\n",
        "\n",
        "print('---------------------------------------')\n",
        "b = a.clone()\n",
        "print(b)\n",
        "\n",
        "print('---------------------------------------')\n",
        "c = a.detach().clone()\n",
        "print(c)\n"
      ],
      "metadata": {
        "colab": {
          "base_uri": "https://localhost:8080/"
        },
        "id": "U0WociYLH6-n",
        "outputId": "109ae193-1b77-4463-8585-a2b8a2888d2d"
      },
      "execution_count": 48,
      "outputs": [
        {
          "output_type": "stream",
          "name": "stdout",
          "text": [
            "tensor([[0.1973, 0.3285],\n",
            "        [0.5655, 0.0065]], requires_grad=True)\n",
            "---------------------------------------\n",
            "tensor([[0.1973, 0.3285],\n",
            "        [0.5655, 0.0065]], grad_fn=<CloneBackward0>)\n",
            "---------------------------------------\n",
            "tensor([[0.1973, 0.3285],\n",
            "        [0.5655, 0.0065]])\n"
          ]
        }
      ]
    },
    {
      "cell_type": "code",
      "source": [],
      "metadata": {
        "id": "lxR8ncoJIDqQ"
      },
      "execution_count": null,
      "outputs": []
    }
  ]
}